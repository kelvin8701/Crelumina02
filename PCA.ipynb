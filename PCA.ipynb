{
 "cells": [
  {
   "cell_type": "code",
   "execution_count": 2,
   "id": "ddc79b28-5896-4437-83c3-91d5da014c44",
   "metadata": {
    "tags": []
   },
   "outputs": [
    {
     "name": "stdout",
     "output_type": "stream",
     "text": [
      "sagemaker.config INFO - Not applying SDK defaults from location: /etc/xdg/sagemaker/config.yaml\n",
      "sagemaker.config INFO - Not applying SDK defaults from location: /root/.config/sagemaker/config.yaml\n"
     ]
    }
   ],
   "source": [
    "import pandas as pd\n",
    "import boto3\n",
    "from sagemaker import get_execution_role"
   ]
  },
  {
   "cell_type": "code",
   "execution_count": 36,
   "id": "3e11b2ed-b608-40af-8b9d-14264cff2cc9",
   "metadata": {
    "tags": []
   },
   "outputs": [],
   "source": [
    "conn = boto3.client('s3')\n",
    "bucket = 'awsbucket-un-datathon-uph23'\n",
    "content = conn.list_objects(Bucket=bucket)[\"Contents\"]\n",
    "# content"
   ]
  },
  {
   "cell_type": "code",
   "execution_count": 37,
   "id": "5b3c00b7-7cad-4bca-a8cf-6d61f49c726d",
   "metadata": {
    "tags": []
   },
   "outputs": [
    {
     "name": "stdout",
     "output_type": "stream",
     "text": [
      "Test AG Iris Dataset Logistic Regression.ipynb\n",
      "datasets/\n",
      "datasets/HTI_2021_FIES_v01_EN_M_v01_A_OCS.RData\n",
      "datasets/HTI_2021_FIES_v01_EN_M_v01_A_OCS.csv\n",
      "datasets/HTI_2021_FIES_v01_EN_M_v01_A_OCS.dta\n",
      "datasets/HTI_2021_FIES_v01_EN_M_v01_A_OCS.sav\n",
      "datasets/HTI_2022_FIES_v01_EN_M_v01_A_OCS.RData\n",
      "datasets/HTI_2022_FIES_v01_EN_M_v01_A_OCS.csv\n",
      "datasets/HTI_2022_FIES_v01_EN_M_v01_A_OCS.dta\n",
      "datasets/HTI_2022_FIES_v01_EN_M_v01_A_OCS.sav\n",
      "datasets/MMR_2020_FIES_v01_EN_M_v01_A_OCS.RData\n",
      "datasets/MMR_2020_FIES_v01_EN_M_v01_A_OCS.csv\n",
      "datasets/MMR_2020_FIES_v01_EN_M_v01_A_OCS.dta\n",
      "datasets/MMR_2020_FIES_v01_EN_M_v01_A_OCS.sav\n",
      "datasets/MMR_2021_FIES_v01_EN_M_v01_A_OCS.RData\n",
      "datasets/MMR_2021_FIES_v01_EN_M_v01_A_OCS.csv\n",
      "datasets/MMR_2021_FIES_v01_EN_M_v01_A_OCS.dta\n",
      "datasets/MMR_2021_FIES_v01_EN_M_v01_A_OCS.sav\n",
      "datasets/MMR_2022_FIES_v01_EN_M_v01_A_OCS.RData\n",
      "datasets/MMR_2022_FIES_v01_EN_M_v01_A_OCS.csv\n",
      "datasets/MMR_2022_FIES_v01_EN_M_v01_A_OCS.dta\n",
      "datasets/MMR_2022_FIES_v01_EN_M_v01_A_OCS.sav\n",
      "datasets/agriculture-and-rural-development_hti.csv\n",
      "datasets/agriculture-and-rural-development_mmr.csv\n",
      "datasets/poverty_mmr.csv\n",
      "datasets/wfp_food_prices_mmr.csv\n"
     ]
    }
   ],
   "source": [
    "for data in content:\n",
    "    print(data['Key'])"
   ]
  },
  {
   "cell_type": "code",
   "execution_count": 96,
   "id": "b5db2473-e4f7-4e69-8068-f82f5c1c99f8",
   "metadata": {
    "tags": []
   },
   "outputs": [],
   "source": [
    "dataset_hti_22 = 'datasets/HTI_2022_FIES_v01_EN_M_v01_A_OCS.csv'"
   ]
  },
  {
   "cell_type": "code",
   "execution_count": 98,
   "id": "99d67da9-9713-4f49-87c3-89c6e8ea53d8",
   "metadata": {
    "tags": []
   },
   "outputs": [
    {
     "data": {
      "text/plain": [
       "(Index(['Unnamed: 0', 'Random_ID', 'WORRIED', 'HEALTHY', 'FEWFOOD', 'SKIPPED',\n",
       "        'ATELESS', 'RUNOUT', 'HUNGRY', 'WHLDAY', 'wt', 'year', 'N_adults',\n",
       "        'N_child', 'Raw_score', 'Raw_score_par', 'Raw_score_par_error',\n",
       "        'Prob_Mod_Sev', 'Prob_sev', 'Age', 'Education', 'Area', 'Gender',\n",
       "        'Income'],\n",
       "       dtype='object'),\n",
       "    Unnamed: 0  Random_ID  WORRIED  HEALTHY  FEWFOOD  SKIPPED  ATELESS  RUNOUT  \\\n",
       " 0           0        NaN      1.0      1.0      0.0      1.0      1.0     1.0   \n",
       " 1           1        NaN      1.0      1.0      1.0      1.0      1.0     1.0   \n",
       " 2           2        NaN      1.0      1.0      0.0      1.0      1.0     0.0   \n",
       " 3           3        NaN      1.0      1.0      1.0      1.0      1.0     1.0   \n",
       " 4           4        NaN      1.0      1.0      0.0      1.0      1.0     1.0   \n",
       " \n",
       "    HUNGRY  WHLDAY  ...  Raw_score  Raw_score_par Raw_score_par_error  \\\n",
       " 0     1.0     1.0  ...        7.0       2.385018            1.098216   \n",
       " 1     1.0     1.0  ...        8.0       3.755926            1.393199   \n",
       " 2     1.0     1.0  ...        6.0       1.370634            0.880568   \n",
       " 3     1.0     0.0  ...        7.0       2.385018            1.098216   \n",
       " 4     1.0     0.0  ...        6.0       1.370634            0.880568   \n",
       " \n",
       "   Prob_Mod_Sev  Prob_sev   Age                  Education  \\\n",
       " 0     0.992968  0.678647  30.0       Tertiary institution   \n",
       " 1     0.998248  0.911443  84.0  Primary/Elementary school   \n",
       " 2     0.971973  0.283193  34.0           Secondary school   \n",
       " 3     0.992968  0.678647  41.0  Primary/Elementary school   \n",
       " 4     0.971973  0.283193  25.0           Secondary school   \n",
       " \n",
       "                         Area  Gender                     Income  \n",
       " 0                  A VILLAGE    Male  Between 10000 and 50000 G  \n",
       " 1                     A FARM  Female          Less than 10000 G  \n",
       " 2                     A TOWN    Male          Less than 10000 G  \n",
       " 3  THE SUBURBS OF A BIG CITY    Male          Less than 10000 G  \n",
       " 4                     A FARM    Male                    REFUSED  \n",
       " \n",
       " [5 rows x 24 columns])"
      ]
     },
     "execution_count": 98,
     "metadata": {},
     "output_type": "execute_result"
    }
   ],
   "source": [
    "#!pip install pyreadstat\n",
    "#df = pd.read_spss(f\"s3://{bucket}/{dataset}\")\n",
    "df_hti_22 = pd.read_csv(f\"s3://{bucket}/{dataset_hti}\")\n",
    "df_hti_22.columns, df_hti_22.head(5)"
   ]
  },
  {
   "cell_type": "code",
   "execution_count": 99,
   "id": "3e22f1cf-e346-4c9a-811a-08f4c01813c6",
   "metadata": {
    "tags": []
   },
   "outputs": [
    {
     "data": {
      "text/html": [
       "<div>\n",
       "<style scoped>\n",
       "    .dataframe tbody tr th:only-of-type {\n",
       "        vertical-align: middle;\n",
       "    }\n",
       "\n",
       "    .dataframe tbody tr th {\n",
       "        vertical-align: top;\n",
       "    }\n",
       "\n",
       "    .dataframe thead th {\n",
       "        text-align: right;\n",
       "    }\n",
       "</style>\n",
       "<table border=\"1\" class=\"dataframe\">\n",
       "  <thead>\n",
       "    <tr style=\"text-align: right;\">\n",
       "      <th></th>\n",
       "      <th>WORRIED</th>\n",
       "      <th>HEALTHY</th>\n",
       "      <th>FEWFOOD</th>\n",
       "      <th>SKIPPED</th>\n",
       "      <th>ATELESS</th>\n",
       "      <th>RUNOUT</th>\n",
       "      <th>HUNGRY</th>\n",
       "      <th>WHLDAY</th>\n",
       "    </tr>\n",
       "  </thead>\n",
       "  <tbody>\n",
       "    <tr>\n",
       "      <th>count</th>\n",
       "      <td>1984.000000</td>\n",
       "      <td>1966.000000</td>\n",
       "      <td>1977.000000</td>\n",
       "      <td>1996.000000</td>\n",
       "      <td>1983.000000</td>\n",
       "      <td>1990.000000</td>\n",
       "      <td>1995.000000</td>\n",
       "      <td>1987.000000</td>\n",
       "    </tr>\n",
       "    <tr>\n",
       "      <th>mean</th>\n",
       "      <td>0.889617</td>\n",
       "      <td>0.841302</td>\n",
       "      <td>0.511887</td>\n",
       "      <td>0.764028</td>\n",
       "      <td>0.905194</td>\n",
       "      <td>0.765829</td>\n",
       "      <td>0.803008</td>\n",
       "      <td>0.338198</td>\n",
       "    </tr>\n",
       "    <tr>\n",
       "      <th>std</th>\n",
       "      <td>0.313446</td>\n",
       "      <td>0.365487</td>\n",
       "      <td>0.499985</td>\n",
       "      <td>0.424711</td>\n",
       "      <td>0.293020</td>\n",
       "      <td>0.423586</td>\n",
       "      <td>0.397826</td>\n",
       "      <td>0.473215</td>\n",
       "    </tr>\n",
       "    <tr>\n",
       "      <th>min</th>\n",
       "      <td>0.000000</td>\n",
       "      <td>0.000000</td>\n",
       "      <td>0.000000</td>\n",
       "      <td>0.000000</td>\n",
       "      <td>0.000000</td>\n",
       "      <td>0.000000</td>\n",
       "      <td>0.000000</td>\n",
       "      <td>0.000000</td>\n",
       "    </tr>\n",
       "    <tr>\n",
       "      <th>25%</th>\n",
       "      <td>1.000000</td>\n",
       "      <td>1.000000</td>\n",
       "      <td>0.000000</td>\n",
       "      <td>1.000000</td>\n",
       "      <td>1.000000</td>\n",
       "      <td>1.000000</td>\n",
       "      <td>1.000000</td>\n",
       "      <td>0.000000</td>\n",
       "    </tr>\n",
       "    <tr>\n",
       "      <th>50%</th>\n",
       "      <td>1.000000</td>\n",
       "      <td>1.000000</td>\n",
       "      <td>1.000000</td>\n",
       "      <td>1.000000</td>\n",
       "      <td>1.000000</td>\n",
       "      <td>1.000000</td>\n",
       "      <td>1.000000</td>\n",
       "      <td>0.000000</td>\n",
       "    </tr>\n",
       "    <tr>\n",
       "      <th>75%</th>\n",
       "      <td>1.000000</td>\n",
       "      <td>1.000000</td>\n",
       "      <td>1.000000</td>\n",
       "      <td>1.000000</td>\n",
       "      <td>1.000000</td>\n",
       "      <td>1.000000</td>\n",
       "      <td>1.000000</td>\n",
       "      <td>1.000000</td>\n",
       "    </tr>\n",
       "    <tr>\n",
       "      <th>max</th>\n",
       "      <td>1.000000</td>\n",
       "      <td>1.000000</td>\n",
       "      <td>1.000000</td>\n",
       "      <td>1.000000</td>\n",
       "      <td>1.000000</td>\n",
       "      <td>1.000000</td>\n",
       "      <td>1.000000</td>\n",
       "      <td>1.000000</td>\n",
       "    </tr>\n",
       "  </tbody>\n",
       "</table>\n",
       "</div>"
      ],
      "text/plain": [
       "           WORRIED      HEALTHY      FEWFOOD      SKIPPED      ATELESS  \\\n",
       "count  1984.000000  1966.000000  1977.000000  1996.000000  1983.000000   \n",
       "mean      0.889617     0.841302     0.511887     0.764028     0.905194   \n",
       "std       0.313446     0.365487     0.499985     0.424711     0.293020   \n",
       "min       0.000000     0.000000     0.000000     0.000000     0.000000   \n",
       "25%       1.000000     1.000000     0.000000     1.000000     1.000000   \n",
       "50%       1.000000     1.000000     1.000000     1.000000     1.000000   \n",
       "75%       1.000000     1.000000     1.000000     1.000000     1.000000   \n",
       "max       1.000000     1.000000     1.000000     1.000000     1.000000   \n",
       "\n",
       "            RUNOUT       HUNGRY       WHLDAY  \n",
       "count  1990.000000  1995.000000  1987.000000  \n",
       "mean      0.765829     0.803008     0.338198  \n",
       "std       0.423586     0.397826     0.473215  \n",
       "min       0.000000     0.000000     0.000000  \n",
       "25%       1.000000     1.000000     0.000000  \n",
       "50%       1.000000     1.000000     0.000000  \n",
       "75%       1.000000     1.000000     1.000000  \n",
       "max       1.000000     1.000000     1.000000  "
      ]
     },
     "execution_count": 99,
     "metadata": {},
     "output_type": "execute_result"
    }
   ],
   "source": [
    "slice_1_hti_22 = df.iloc[:,2:10]\n",
    "slice_1_hti_22.describe()"
   ]
  },
  {
   "cell_type": "code",
   "execution_count": 100,
   "id": "f510c788-838c-4cdb-9d81-03f558b1073d",
   "metadata": {
    "tags": []
   },
   "outputs": [
    {
     "data": {
      "text/plain": [
       "WORRIED    21\n",
       "HEALTHY    39\n",
       "FEWFOOD    28\n",
       "SKIPPED     9\n",
       "ATELESS    22\n",
       "RUNOUT     15\n",
       "HUNGRY     10\n",
       "WHLDAY     18\n",
       "dtype: int64"
      ]
     },
     "execution_count": 100,
     "metadata": {},
     "output_type": "execute_result"
    }
   ],
   "source": [
    "slice_1_hti_22.isna().sum()"
   ]
  },
  {
   "cell_type": "code",
   "execution_count": 101,
   "id": "e02f80e7-914d-4b14-8e0f-c25cc3ca24f0",
   "metadata": {
    "tags": []
   },
   "outputs": [],
   "source": [
    "slice_1_hti_dropped_22 = slice_1_hti_22.dropna()"
   ]
  },
  {
   "cell_type": "code",
   "execution_count": 102,
   "id": "a25054d8-a359-4ea0-97ea-b4689f2cb68e",
   "metadata": {
    "tags": []
   },
   "outputs": [
    {
     "data": {
      "text/plain": [
       "PCA(n_components=8)"
      ]
     },
     "execution_count": 102,
     "metadata": {},
     "output_type": "execute_result"
    }
   ],
   "source": [
    "from sklearn.decomposition import PCA\n",
    "pca_hti_22 = PCA(n_components=8)\n",
    "pca_hti_22.fit(slice_1_hti_dropped_22)"
   ]
  },
  {
   "cell_type": "code",
   "execution_count": 103,
   "id": "9df85174-c611-4f46-94c5-082f79fc7537",
   "metadata": {
    "tags": []
   },
   "outputs": [
    {
     "name": "stdout",
     "output_type": "stream",
     "text": [
      "[0.38044319 0.15076746 0.14000323 0.09138317 0.08169912 0.07188175\n",
      " 0.0473794  0.03644269]\n"
     ]
    }
   ],
   "source": [
    "print(pca_hti_22.explained_variance_ratio_)"
   ]
  },
  {
   "cell_type": "code",
   "execution_count": 83,
   "id": "57dbdec2-ef37-4cdd-b224-6d91bd8d81c1",
   "metadata": {
    "tags": []
   },
   "outputs": [
    {
     "data": {
      "text/plain": [
       "WORRIED  HEALTHY  FEWFOOD  SKIPPED  ATELESS  RUNOUT  HUNGRY  WHLDAY\n",
       "1.0      1.0      1.0      1.0      1.0      1.0     1.0     1.0       353\n",
       "                                                             0.0       299\n",
       "                  0.0      1.0      1.0      1.0     1.0     0.0       233\n",
       "                                                             1.0       143\n",
       "                           0.0      1.0      1.0     1.0     0.0        50\n",
       "                                                                      ... \n",
       "0.0      0.0      0.0      1.0      0.0      1.0     1.0     0.0         1\n",
       "1.0      1.0      1.0      0.0      1.0      1.0     0.0     1.0         1\n",
       "                           1.0      0.0      0.0     0.0     0.0         1\n",
       "                                             1.0     0.0     1.0         1\n",
       "         0.0      0.0      0.0      0.0      0.0     0.0     1.0         1\n",
       "Length: 145, dtype: int64"
      ]
     },
     "metadata": {},
     "output_type": "display_data"
    }
   ],
   "source": [
    "pd.set_option('display.max_rows', 50)\n",
    "slice_1_counts = slice_1.value_counts()\n",
    "display(slice_1_counts)"
   ]
  },
  {
   "cell_type": "code",
   "execution_count": 105,
   "id": "b3cf3fe2-fc89-4a20-b4c2-4c806b50b68e",
   "metadata": {
    "tags": []
   },
   "outputs": [
    {
     "data": {
      "text/plain": [
       "(Index(['Unnamed: 0', 'Random_ID', 'WORRIED', 'HEALTHY', 'FEWFOOD', 'SKIPPED',\n",
       "        'ATELESS', 'RUNOUT', 'HUNGRY', 'WHLDAY', 'wt', 'year', 'N_adults',\n",
       "        'N_child', 'Raw_score', 'Raw_score_par', 'Raw_score_par_error',\n",
       "        'Prob_Mod_Sev', 'Prob_sev', 'Age', 'Education', 'Area', 'Gender',\n",
       "        'Income'],\n",
       "       dtype='object'),\n",
       "    Unnamed: 0    Random_ID  WORRIED  HEALTHY  FEWFOOD  SKIPPED  ATELESS  \\\n",
       " 0           0  141960652.0      0.0        0        0      0.0        0   \n",
       " 1           1  146185956.0      1.0        1        0      0.0        1   \n",
       " 2           2  132668344.0      0.0        0        0      0.0        0   \n",
       " 3           3  128143145.0      1.0        1        1      1.0        1   \n",
       " 4           4  193829422.0      0.0        0        0      0.0        0   \n",
       " \n",
       "    RUNOUT  HUNGRY  WHLDAY  ...  Raw_score  Raw_score_par Raw_score_par_error  \\\n",
       " 0       0       0       0  ...        0.0      -2.329770            0.975047   \n",
       " 1       0       1       0  ...        4.0      -0.145786            0.549916   \n",
       " 2       0       0       0  ...        0.0      -2.329770            0.975047   \n",
       " 3       1       0       0  ...        6.0       0.898289            0.627694   \n",
       " 4       0       0       0  ...        0.0      -2.329770            0.975047   \n",
       " \n",
       "   Prob_Mod_Sev  Prob_sev   Age  Education           Area  Gender       Income  \n",
       " 0     0.000000  0.000000  23.0    College    Towns/Rural    Male  Poorest_20%  \n",
       " 1     0.618632  0.000119  25.0  Secondary    Towns/Rural    Male   Fourth_20%  \n",
       " 2     0.000000  0.000000  30.0  Secondary    Towns/Rural    Male   Fourth_20%  \n",
       " 3     0.973062  0.059749  27.0  Secondary  Urban/Suburbs  Female  Poorest_20%  \n",
       " 4     0.000000  0.000000  67.0  Secondary    Towns/Rural    Male  Poorest_20%  \n",
       " \n",
       " [5 rows x 24 columns])"
      ]
     },
     "execution_count": 105,
     "metadata": {},
     "output_type": "execute_result"
    }
   ],
   "source": [
    "dataset_mmr_22 = 'datasets/MMR_2022_FIES_v01_EN_M_v01_A_OCS.csv'\n",
    "df_mmr_22 = pd.read_csv(f\"s3://{bucket}/{dataset_mmr_22}\")\n",
    "df_mmr_22.columns, df_mmr_22.head(5)"
   ]
  },
  {
   "cell_type": "code",
   "execution_count": 117,
   "id": "6d14dcfe-6dbd-4703-8dd8-deeb7d1ac109",
   "metadata": {
    "tags": []
   },
   "outputs": [
    {
     "data": {
      "text/plain": [
       "(           WORRIED      HEALTHY      FEWFOOD      SKIPPED      ATELESS  \\\n",
       " count  1984.000000  1966.000000  1977.000000  1996.000000  1983.000000   \n",
       " mean      0.889617     0.841302     0.511887     0.764028     0.905194   \n",
       " std       0.313446     0.365487     0.499985     0.424711     0.293020   \n",
       " min       0.000000     0.000000     0.000000     0.000000     0.000000   \n",
       " 25%       1.000000     1.000000     0.000000     1.000000     1.000000   \n",
       " 50%       1.000000     1.000000     1.000000     1.000000     1.000000   \n",
       " 75%       1.000000     1.000000     1.000000     1.000000     1.000000   \n",
       " max       1.000000     1.000000     1.000000     1.000000     1.000000   \n",
       " \n",
       "             RUNOUT       HUNGRY       WHLDAY  \n",
       " count  1990.000000  1995.000000  1987.000000  \n",
       " mean      0.765829     0.803008     0.338198  \n",
       " std       0.423586     0.397826     0.473215  \n",
       " min       0.000000     0.000000     0.000000  \n",
       " 25%       1.000000     1.000000     0.000000  \n",
       " 50%       1.000000     1.000000     0.000000  \n",
       " 75%       1.000000     1.000000     1.000000  \n",
       " max       1.000000     1.000000     1.000000  ,\n",
       "           WORRIED      HEALTHY      FEWFOOD    SKIPPED      ATELESS  \\\n",
       " count  999.000000  1000.000000  1000.000000  999.00000  1000.000000   \n",
       " mean     0.481481     0.286000     0.348000    0.17017     0.397000   \n",
       " std      0.499907     0.452115     0.476574    0.37597     0.489521   \n",
       " min      0.000000     0.000000     0.000000    0.00000     0.000000   \n",
       " 25%      0.000000     0.000000     0.000000    0.00000     0.000000   \n",
       " 50%      0.000000     0.000000     0.000000    0.00000     0.000000   \n",
       " 75%      1.000000     1.000000     1.000000    0.00000     1.000000   \n",
       " max      1.000000     1.000000     1.000000    1.00000     1.000000   \n",
       " \n",
       "             RUNOUT       HUNGRY       WHLDAY  \n",
       " count  1000.000000  1000.000000  1000.000000  \n",
       " mean      0.157000     0.252000     0.076000  \n",
       " std       0.363983     0.434379     0.265131  \n",
       " min       0.000000     0.000000     0.000000  \n",
       " 25%       0.000000     0.000000     0.000000  \n",
       " 50%       0.000000     0.000000     0.000000  \n",
       " 75%       0.000000     1.000000     0.000000  \n",
       " max       1.000000     1.000000     1.000000  )"
      ]
     },
     "execution_count": 117,
     "metadata": {},
     "output_type": "execute_result"
    }
   ],
   "source": [
    "slice_1_hti_22.describe(), slice_1_mmr_22.describe()"
   ]
  },
  {
   "cell_type": "code",
   "execution_count": 114,
   "id": "da83dfa2-593c-4f92-bca9-a8e248a0b213",
   "metadata": {
    "tags": []
   },
   "outputs": [
    {
     "data": {
      "text/plain": [
       "array([0.54296214, 0.11623636, 0.08428086, 0.07593251, 0.0588944 ,\n",
       "       0.04881827, 0.04042493, 0.03245052])"
      ]
     },
     "execution_count": 114,
     "metadata": {},
     "output_type": "execute_result"
    }
   ],
   "source": [
    "slice_1_mmr_22 = df_mmr_22.iloc[:, 2:10]\n",
    "slice_1_mmr_22_dropped = slice_1_mmr_22.dropna(axis=0)\n",
    "pca_mmr_22 = PCA(n_components=8)\n",
    "pca_mmr_22.fit(slice_1_mmr_22_dropped)\n",
    "pca_mmr_22.explained_variance_ratio_"
   ]
  },
  {
   "cell_type": "code",
   "execution_count": 116,
   "id": "ee833cf1-66d0-4f47-9448-ba27be772d5d",
   "metadata": {
    "tags": []
   },
   "outputs": [
    {
     "data": {
      "text/plain": [
       "(array([0.38044319, 0.15076746, 0.14000323, 0.09138317, 0.08169912,\n",
       "        0.07188175, 0.0473794 , 0.03644269]),\n",
       " array([0.54296214, 0.11623636, 0.08428086, 0.07593251, 0.0588944 ,\n",
       "        0.04881827, 0.04042493, 0.03245052]))"
      ]
     },
     "execution_count": 116,
     "metadata": {},
     "output_type": "execute_result"
    }
   ],
   "source": [
    "pca_hti_22.explained_variance_ratio_, pca_mmr_22.explained_variance_ratio_"
   ]
  },
  {
   "cell_type": "code",
   "execution_count": 122,
   "id": "21960047-dfa0-476a-af8d-1ca62e0863e3",
   "metadata": {
    "tags": []
   },
   "outputs": [
    {
     "name": "stdout",
     "output_type": "stream",
     "text": [
      "   feature       VIF\n",
      "0  WORRIED  2.316070\n",
      "1  HEALTHY  2.823797\n",
      "2  FEWFOOD  3.358680\n",
      "3  SKIPPED  2.128885\n",
      "4  ATELESS  2.695831\n",
      "5   RUNOUT  2.099767\n",
      "6   HUNGRY  2.672579\n",
      "7   WHLDAY  1.477924\n",
      "   feature        VIF\n",
      "0  WORRIED  12.879286\n",
      "1  HEALTHY   9.281901\n",
      "2  FEWFOOD   2.365970\n",
      "3  SKIPPED   5.708118\n",
      "4  ATELESS  12.463764\n",
      "5   RUNOUT   6.277772\n",
      "6   HUNGRY   7.435351\n",
      "7   WHLDAY   1.755406\n"
     ]
    }
   ],
   "source": [
    "from statsmodels.stats.outliers_influence import variance_inflation_factor \n",
    "  \n",
    "# VIF dataframe \n",
    "vif_data_mmr_22 = pd.DataFrame() \n",
    "vif_data_mmr_22[\"feature\"] = slice_1_mmr_22_dropped.columns\n",
    "vif_data_hti_22 = pd.DataFrame() \n",
    "vif_data_hti_22[\"feature\"] = slice_1_hti_dropped_22.columns\n",
    "\n",
    "# calculating VIF for each feature \n",
    "vif_data_mmr_22[\"VIF\"] = [variance_inflation_factor(slice_1_mmr_22_dropped.values, i) \n",
    "                          for i in range(len(slice_1_mmr_22_dropped.columns))] \n",
    "vif_data_hti_22[\"VIF\"] = [variance_inflation_factor(slice_1_hti_dropped_22.values, i) \n",
    "                          for i in range(len(slice_1_hti_dropped_22.columns))] \n",
    "  \n",
    "print(vif_data_mmr_22)\n",
    "print(vif_data_hti_22)"
   ]
  },
  {
   "cell_type": "code",
   "execution_count": 134,
   "id": "b9b0dde0-a2e1-4e07-9eaf-f84c701d878f",
   "metadata": {
    "tags": []
   },
   "outputs": [],
   "source": [
    "#idx = range(0, (len(slice_1_mmr_22_dropped.columns)))\n",
    "#variance_inflation_factor(slice_1_hti_dropped_22.values, idx)"
   ]
  },
  {
   "cell_type": "code",
   "execution_count": 158,
   "id": "127abe4d-599f-4d1c-9cab-35011ee79786",
   "metadata": {
    "tags": []
   },
   "outputs": [
    {
     "name": "stderr",
     "output_type": "stream",
     "text": [
      "/opt/conda/lib/python3.10/site-packages/seaborn/_decorators.py:36: FutureWarning: Pass the following variables as keyword args: x, y. From version 0.12, the only valid positional argument will be `data`, and passing other arguments without an explicit keyword will result in an error or misinterpretation.\n",
      "  warnings.warn(\n"
     ]
    },
    {
     "data": {
      "image/png": "[encoded data removed]",
      "text/plain": [
       "<Figure size 640x480 with 1 Axes>"
      ]
     },
     "metadata": {},
     "output_type": "display_data"
    }
   ],
   "source": [
    "# df_mmr_22\n",
    "import matplotlib.pyplot as plt\n",
    "\n",
    "#plt.scatter(df_mmr_22['Area'], df_mmr_22['Education'])\n",
    "#plt.show()\n",
    "\n",
    "import seaborn as sns\n",
    "\n",
    "sns.set(style='ticks', context='talk')\n",
    "\n",
    "# sns.swarmplot('Area', 'Education', data=df_mmr_22)\n",
    "sns.stripplot('Area', 'Education', data=df_mmr_22, jitter=True, alpha=0.1)\n",
    "sns.despine()\n"
   ]
  },
  {
   "cell_type": "code",
   "execution_count": null,
   "id": "5f548a7c-1ac3-44ca-a017-7bba4417c32f",
   "metadata": {},
   "outputs": [],
   "source": []
  }
 ],
 "metadata": {
  "availableInstances": [
   {
    "_defaultOrder": 0,
    "_isFastLaunch": true,
    "category": "General purpose",
    "gpuNum": 0,
    "hideHardwareSpecs": false,
    "memoryGiB": 4,
    "name": "ml.t3.medium",
    "vcpuNum": 2
   },
   {
    "_defaultOrder": 1,
    "_isFastLaunch": false,
    "category": "General purpose",
    "gpuNum": 0,
    "hideHardwareSpecs": false,
    "memoryGiB": 8,
    "name": "ml.t3.large",
    "vcpuNum": 2
   },
   {
    "_defaultOrder": 2,
    "_isFastLaunch": false,
    "category": "General purpose",
    "gpuNum": 0,
    "hideHardwareSpecs": false,
    "memoryGiB": 16,
    "name": "ml.t3.xlarge",
    "vcpuNum": 4
   },
   {
    "_defaultOrder": 3,
    "_isFastLaunch": false,
    "category": "General purpose",
    "gpuNum": 0,
    "hideHardwareSpecs": false,
    "memoryGiB": 32,
    "name": "ml.t3.2xlarge",
    "vcpuNum": 8
   },
   {
    "_defaultOrder": 4,
    "_isFastLaunch": true,
    "category": "General purpose",
    "gpuNum": 0,
    "hideHardwareSpecs": false,
    "memoryGiB": 8,
    "name": "ml.m5.large",
    "vcpuNum": 2
   },
   {
    "_defaultOrder": 5,
    "_isFastLaunch": false,
    "category": "General purpose",
    "gpuNum": 0,
    "hideHardwareSpecs": false,
    "memoryGiB": 16,
    "name": "ml.m5.xlarge",
    "vcpuNum": 4
   },
   {
    "_defaultOrder": 6,
    "_isFastLaunch": false,
    "category": "General purpose",
    "gpuNum": 0,
    "hideHardwareSpecs": false,
    "memoryGiB": 32,
    "name": "ml.m5.2xlarge",
    "vcpuNum": 8
   },
   {
    "_defaultOrder": 7,
    "_isFastLaunch": false,
    "category": "General purpose",
    "gpuNum": 0,
    "hideHardwareSpecs": false,
    "memoryGiB": 64,
    "name": "ml.m5.4xlarge",
    "vcpuNum": 16
   },
   {
    "_defaultOrder": 8,
    "_isFastLaunch": false,
    "category": "General purpose",
    "gpuNum": 0,
    "hideHardwareSpecs": false,
    "memoryGiB": 128,
    "name": "ml.m5.8xlarge",
    "vcpuNum": 32
   },
   {
    "_defaultOrder": 9,
    "_isFastLaunch": false,
    "category": "General purpose",
    "gpuNum": 0,
    "hideHardwareSpecs": false,
    "memoryGiB": 192,
    "name": "ml.m5.12xlarge",
    "vcpuNum": 48
   },
   {
    "_defaultOrder": 10,
    "_isFastLaunch": false,
    "category": "General purpose",
    "gpuNum": 0,
    "hideHardwareSpecs": false,
    "memoryGiB": 256,
    "name": "ml.m5.16xlarge",
    "vcpuNum": 64
   },
   {
    "_defaultOrder": 11,
    "_isFastLaunch": false,
    "category": "General purpose",
    "gpuNum": 0,
    "hideHardwareSpecs": false,
    "memoryGiB": 384,
    "name": "ml.m5.24xlarge",
    "vcpuNum": 96
   },
   {
    "_defaultOrder": 12,
    "_isFastLaunch": false,
    "category": "General purpose",
    "gpuNum": 0,
    "hideHardwareSpecs": false,
    "memoryGiB": 8,
    "name": "ml.m5d.large",
    "vcpuNum": 2
   },
   {
    "_defaultOrder": 13,
    "_isFastLaunch": false,
    "category": "General purpose",
    "gpuNum": 0,
    "hideHardwareSpecs": false,
    "memoryGiB": 16,
    "name": "ml.m5d.xlarge",
    "vcpuNum": 4
   },
   {
    "_defaultOrder": 14,
    "_isFastLaunch": false,
    "category": "General purpose",
    "gpuNum": 0,
    "hideHardwareSpecs": false,
    "memoryGiB": 32,
    "name": "ml.m5d.2xlarge",
    "vcpuNum": 8
   },
   {
    "_defaultOrder": 15,
    "_isFastLaunch": false,
    "category": "General purpose",
    "gpuNum": 0,
    "hideHardwareSpecs": false,
    "memoryGiB": 64,
    "name": "ml.m5d.4xlarge",
    "vcpuNum": 16
   },
   {
    "_defaultOrder": 16,
    "_isFastLaunch": false,
    "category": "General purpose",
    "gpuNum": 0,
    "hideHardwareSpecs": false,
    "memoryGiB": 128,
    "name": "ml.m5d.8xlarge",
    "vcpuNum": 32
   },
   {
    "_defaultOrder": 17,
    "_isFastLaunch": false,
    "category": "General purpose",
    "gpuNum": 0,
    "hideHardwareSpecs": false,
    "memoryGiB": 192,
    "name": "ml.m5d.12xlarge",
    "vcpuNum": 48
   },
   {
    "_defaultOrder": 18,
    "_isFastLaunch": false,
    "category": "General purpose",
    "gpuNum": 0,
    "hideHardwareSpecs": false,
    "memoryGiB": 256,
    "name": "ml.m5d.16xlarge",
    "vcpuNum": 64
   },
   {
    "_defaultOrder": 19,
    "_isFastLaunch": false,
    "category": "General purpose",
    "gpuNum": 0,
    "hideHardwareSpecs": false,
    "memoryGiB": 384,
    "name": "ml.m5d.24xlarge",
    "vcpuNum": 96
   },
   {
    "_defaultOrder": 20,
    "_isFastLaunch": false,
    "category": "General purpose",
    "gpuNum": 0,
    "hideHardwareSpecs": true,
    "memoryGiB": 0,
    "name": "ml.geospatial.interactive",
    "supportedImageNames": [
     "sagemaker-geospatial-v1-0"
    ],
    "vcpuNum": 0
   },
   {
    "_defaultOrder": 21,
    "_isFastLaunch": true,
    "category": "Compute optimized",
    "gpuNum": 0,
    "hideHardwareSpecs": false,
    "memoryGiB": 4,
    "name": "ml.c5.large",
    "vcpuNum": 2
   },
   {
    "_defaultOrder": 22,
    "_isFastLaunch": false,
    "category": "Compute optimized",
    "gpuNum": 0,
    "hideHardwareSpecs": false,
    "memoryGiB": 8,
    "name": "ml.c5.xlarge",
    "vcpuNum": 4
   },
   {
    "_defaultOrder": 23,
    "_isFastLaunch": false,
    "category": "Compute optimized",
    "gpuNum": 0,
    "hideHardwareSpecs": false,
    "memoryGiB": 16,
    "name": "ml.c5.2xlarge",
    "vcpuNum": 8
   },
   {
    "_defaultOrder": 24,
    "_isFastLaunch": false,
    "category": "Compute optimized",
    "gpuNum": 0,
    "hideHardwareSpecs": false,
    "memoryGiB": 32,
    "name": "ml.c5.4xlarge",
    "vcpuNum": 16
   },
   {
    "_defaultOrder": 25,
    "_isFastLaunch": false,
    "category": "Compute optimized",
    "gpuNum": 0,
    "hideHardwareSpecs": false,
    "memoryGiB": 72,
    "name": "ml.c5.9xlarge",
    "vcpuNum": 36
   },
   {
    "_defaultOrder": 26,
    "_isFastLaunch": false,
    "category": "Compute optimized",
    "gpuNum": 0,
    "hideHardwareSpecs": false,
    "memoryGiB": 96,
    "name": "ml.c5.12xlarge",
    "vcpuNum": 48
   },
   {
    "_defaultOrder": 27,
    "_isFastLaunch": false,
    "category": "Compute optimized",
    "gpuNum": 0,
    "hideHardwareSpecs": false,
    "memoryGiB": 144,
    "name": "ml.c5.18xlarge",
    "vcpuNum": 72
   },
   {
    "_defaultOrder": 28,
    "_isFastLaunch": false,
    "category": "Compute optimized",
    "gpuNum": 0,
    "hideHardwareSpecs": false,
    "memoryGiB": 192,
    "name": "ml.c5.24xlarge",
    "vcpuNum": 96
   },
   {
    "_defaultOrder": 29,
    "_isFastLaunch": true,
    "category": "Accelerated computing",
    "gpuNum": 1,
    "hideHardwareSpecs": false,
    "memoryGiB": 16,
    "name": "ml.g4dn.xlarge",
    "vcpuNum": 4
   },
   {
    "_defaultOrder": 30,
    "_isFastLaunch": false,
    "category": "Accelerated computing",
    "gpuNum": 1,
    "hideHardwareSpecs": false,
    "memoryGiB": 32,
    "name": "ml.g4dn.2xlarge",
    "vcpuNum": 8
   },
   {
    "_defaultOrder": 31,
    "_isFastLaunch": false,
    "category": "Accelerated computing",
    "gpuNum": 1,
    "hideHardwareSpecs": false,
    "memoryGiB": 64,
    "name": "ml.g4dn.4xlarge",
    "vcpuNum": 16
   },
   {
    "_defaultOrder": 32,
    "_isFastLaunch": false,
    "category": "Accelerated computing",
    "gpuNum": 1,
    "hideHardwareSpecs": false,
    "memoryGiB": 128,
    "name": "ml.g4dn.8xlarge",
    "vcpuNum": 32
   },
   {
    "_defaultOrder": 33,
    "_isFastLaunch": false,
    "category": "Accelerated computing",
    "gpuNum": 4,
    "hideHardwareSpecs": false,
    "memoryGiB": 192,
    "name": "ml.g4dn.12xlarge",
    "vcpuNum": 48
   },
   {
    "_defaultOrder": 34,
    "_isFastLaunch": false,
    "category": "Accelerated computing",
    "gpuNum": 1,
    "hideHardwareSpecs": false,
    "memoryGiB": 256,
    "name": "ml.g4dn.16xlarge",
    "vcpuNum": 64
   },
   {
    "_defaultOrder": 35,
    "_isFastLaunch": false,
    "category": "Accelerated computing",
    "gpuNum": 1,
    "hideHardwareSpecs": false,
    "memoryGiB": 61,
    "name": "ml.p3.2xlarge",
    "vcpuNum": 8
   },
   {
    "_defaultOrder": 36,
    "_isFastLaunch": false,
    "category": "Accelerated computing",
    "gpuNum": 4,
    "hideHardwareSpecs": false,
    "memoryGiB": 244,
    "name": "ml.p3.8xlarge",
    "vcpuNum": 32
   },
   {
    "_defaultOrder": 37,
    "_isFastLaunch": false,
    "category": "Accelerated computing",
    "gpuNum": 8,
    "hideHardwareSpecs": false,
    "memoryGiB": 488,
    "name": "ml.p3.16xlarge",
    "vcpuNum": 64
   },
   {
    "_defaultOrder": 38,
    "_isFastLaunch": false,
    "category": "Accelerated computing",
    "gpuNum": 8,
    "hideHardwareSpecs": false,
    "memoryGiB": 768,
    "name": "ml.p3dn.24xlarge",
    "vcpuNum": 96
   },
   {
    "_defaultOrder": 39,
    "_isFastLaunch": false,
    "category": "Memory Optimized",
    "gpuNum": 0,
    "hideHardwareSpecs": false,
    "memoryGiB": 16,
    "name": "ml.r5.large",
    "vcpuNum": 2
   },
   {
    "_defaultOrder": 40,
    "_isFastLaunch": false,
    "category": "Memory Optimized",
    "gpuNum": 0,
    "hideHardwareSpecs": false,
    "memoryGiB": 32,
    "name": "ml.r5.xlarge",
    "vcpuNum": 4
   },
   {
    "_defaultOrder": 41,
    "_isFastLaunch": false,
    "category": "Memory Optimized",
    "gpuNum": 0,
    "hideHardwareSpecs": false,
    "memoryGiB": 64,
    "name": "ml.r5.2xlarge",
    "vcpuNum": 8
   },
   {
    "_defaultOrder": 42,
    "_isFastLaunch": false,
    "category": "Memory Optimized",
    "gpuNum": 0,
    "hideHardwareSpecs": false,
    "memoryGiB": 128,
    "name": "ml.r5.4xlarge",
    "vcpuNum": 16
   },
   {
    "_defaultOrder": 43,
    "_isFastLaunch": false,
    "category": "Memory Optimized",
    "gpuNum": 0,
    "hideHardwareSpecs": false,
    "memoryGiB": 256,
    "name": "ml.r5.8xlarge",
    "vcpuNum": 32
   },
   {
    "_defaultOrder": 44,
    "_isFastLaunch": false,
    "category": "Memory Optimized",
    "gpuNum": 0,
    "hideHardwareSpecs": false,
    "memoryGiB": 384,
    "name": "ml.r5.12xlarge",
    "vcpuNum": 48
   },
   {
    "_defaultOrder": 45,
    "_isFastLaunch": false,
    "category": "Memory Optimized",
    "gpuNum": 0,
    "hideHardwareSpecs": false,
    "memoryGiB": 512,
    "name": "ml.r5.16xlarge",
    "vcpuNum": 64
   },
   {
    "_defaultOrder": 46,
    "_isFastLaunch": false,
    "category": "Memory Optimized",
    "gpuNum": 0,
    "hideHardwareSpecs": false,
    "memoryGiB": 768,
    "name": "ml.r5.24xlarge",
    "vcpuNum": 96
   },
   {
    "_defaultOrder": 47,
    "_isFastLaunch": false,
    "category": "Accelerated computing",
    "gpuNum": 1,
    "hideHardwareSpecs": false,
    "memoryGiB": 16,
    "name": "ml.g5.xlarge",
    "vcpuNum": 4
   },
   {
    "_defaultOrder": 48,
    "_isFastLaunch": false,
    "category": "Accelerated computing",
    "gpuNum": 1,
    "hideHardwareSpecs": false,
    "memoryGiB": 32,
    "name": "ml.g5.2xlarge",
    "vcpuNum": 8
   },
   {
    "_defaultOrder": 49,
    "_isFastLaunch": false,
    "category": "Accelerated computing",
    "gpuNum": 1,
    "hideHardwareSpecs": false,
    "memoryGiB": 64,
    "name": "ml.g5.4xlarge",
    "vcpuNum": 16
   },
   {
    "_defaultOrder": 50,
    "_isFastLaunch": false,
    "category": "Accelerated computing",
    "gpuNum": 1,
    "hideHardwareSpecs": false,
    "memoryGiB": 128,
    "name": "ml.g5.8xlarge",
    "vcpuNum": 32
   },
   {
    "_defaultOrder": 51,
    "_isFastLaunch": false,
    "category": "Accelerated computing",
    "gpuNum": 1,
    "hideHardwareSpecs": false,
    "memoryGiB": 256,
    "name": "ml.g5.16xlarge",
    "vcpuNum": 64
   },
   {
    "_defaultOrder": 52,
    "_isFastLaunch": false,
    "category": "Accelerated computing",
    "gpuNum": 4,
    "hideHardwareSpecs": false,
    "memoryGiB": 192,
    "name": "ml.g5.12xlarge",
    "vcpuNum": 48
   },
   {
    "_defaultOrder": 53,
    "_isFastLaunch": false,
    "category": "Accelerated computing",
    "gpuNum": 4,
    "hideHardwareSpecs": false,
    "memoryGiB": 384,
    "name": "ml.g5.24xlarge",
    "vcpuNum": 96
   },
   {
    "_defaultOrder": 54,
    "_isFastLaunch": false,
    "category": "Accelerated computing",
    "gpuNum": 8,
    "hideHardwareSpecs": false,
    "memoryGiB": 768,
    "name": "ml.g5.48xlarge",
    "vcpuNum": 192
   },
   {
    "_defaultOrder": 55,
    "_isFastLaunch": false,
    "category": "Accelerated computing",
    "gpuNum": 8,
    "hideHardwareSpecs": false,
    "memoryGiB": 1152,
    "name": "ml.p4d.24xlarge",
    "vcpuNum": 96
   },
   {
    "_defaultOrder": 56,
    "_isFastLaunch": false,
    "category": "Accelerated computing",
    "gpuNum": 8,
    "hideHardwareSpecs": false,
    "memoryGiB": 1152,
    "name": "ml.p4de.24xlarge",
    "vcpuNum": 96
   }
  ],
  "instance_type": "ml.t3.medium",
  "kernelspec": {
   "display_name": "Python 3 (Data Science 3.0)",
   "language": "python",
   "name": "python3__SAGEMAKER_INTERNAL__arn:aws:sagemaker:us-west-2:236514542706:image/sagemaker-data-science-310-v1"
  },
  "language_info": {
   "codemirror_mode": {
    "name": "ipython",
    "version": 3
   },
   "file_extension": ".py",
   "mimetype": "text/x-python",
   "name": "python",
   "nbconvert_exporter": "python",
   "pygments_lexer": "ipython3",
   "version": "3.10.6"
  }
 },
 "nbformat": 4,
 "nbformat_minor": 5
}
